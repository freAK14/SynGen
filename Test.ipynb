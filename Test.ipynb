{
 "cells": [
  {
   "cell_type": "code",
   "execution_count": 1,
   "id": "d1f51e38",
   "metadata": {},
   "outputs": [],
   "source": [
    "from SynGen import syngen"
   ]
  },
  {
   "cell_type": "code",
   "execution_count": 2,
   "id": "af40937a",
   "metadata": {},
   "outputs": [],
   "source": [
    "obj = syngen()"
   ]
  },
  {
   "cell_type": "code",
   "execution_count": 3,
   "id": "b8828e8e",
   "metadata": {},
   "outputs": [
    {
     "data": {
      "text/plain": [
       "'2018ACIV4586489'"
      ]
     },
     "execution_count": 3,
     "metadata": {},
     "output_type": "execute_result"
    }
   ],
   "source": [
    "obj.college_regno()"
   ]
  },
  {
   "cell_type": "code",
   "execution_count": 4,
   "id": "2fcc30d6",
   "metadata": {},
   "outputs": [
    {
     "data": {
      "text/plain": [
       "'Ishita Randhawa'"
      ]
     },
     "execution_count": 4,
     "metadata": {},
     "output_type": "execute_result"
    }
   ],
   "source": [
    "obj.fake.name()"
   ]
  },
  {
   "cell_type": "code",
   "execution_count": 5,
   "id": "1daebfa4",
   "metadata": {},
   "outputs": [
    {
     "data": {
      "text/plain": [
       "0                         neysa31@wali.net\n",
       "1                       ivansaraf@gour.net\n",
       "2                        hansh33@yahoo.com\n",
       "3                   khuranastuvan@kota.net\n",
       "4    tarinichada@ramachandran-bhardwaj.com\n",
       "dtype: object"
      ]
     },
     "execution_count": 5,
     "metadata": {},
     "output_type": "execute_result"
    }
   ],
   "source": [
    "obj.gen_data_series(num = 5, data_type = \"email\")"
   ]
  },
  {
   "cell_type": "code",
   "execution_count": 6,
   "id": "a3c398ec",
   "metadata": {},
   "outputs": [
    {
     "data": {
      "text/html": [
       "<div>\n",
       "<style scoped>\n",
       "    .dataframe tbody tr th:only-of-type {\n",
       "        vertical-align: middle;\n",
       "    }\n",
       "\n",
       "    .dataframe tbody tr th {\n",
       "        vertical-align: top;\n",
       "    }\n",
       "\n",
       "    .dataframe thead th {\n",
       "        text-align: right;\n",
       "    }\n",
       "</style>\n",
       "<table border=\"1\" class=\"dataframe\">\n",
       "  <thead>\n",
       "    <tr style=\"text-align: right;\">\n",
       "      <th></th>\n",
       "      <th>name</th>\n",
       "      <th>college_regno</th>\n",
       "      <th>email</th>\n",
       "      <th>phone_num</th>\n",
       "    </tr>\n",
       "  </thead>\n",
       "  <tbody>\n",
       "    <tr>\n",
       "      <th>0</th>\n",
       "      <td>Hazel Sehgal</td>\n",
       "      <td>2012ACSC8825486</td>\n",
       "      <td>Hazel_Sehgal@rediffmail.com</td>\n",
       "      <td>82345-13237</td>\n",
       "    </tr>\n",
       "    <tr>\n",
       "      <th>1</th>\n",
       "      <td>Ira Rege</td>\n",
       "      <td>2020AETX8992876</td>\n",
       "      <td>IRege56@gmail.com</td>\n",
       "      <td>71835-17161</td>\n",
       "    </tr>\n",
       "    <tr>\n",
       "      <th>2</th>\n",
       "      <td>Riaan Rajagopalan</td>\n",
       "      <td>2016AETC5099545</td>\n",
       "      <td>Rajagopalan_Riaan94@mail.com</td>\n",
       "      <td>85288-12740</td>\n",
       "    </tr>\n",
       "    <tr>\n",
       "      <th>3</th>\n",
       "      <td>Abram Lala</td>\n",
       "      <td>2011AIFT9428515</td>\n",
       "      <td>AbramLala@aol.com</td>\n",
       "      <td>82207-37342</td>\n",
       "    </tr>\n",
       "    <tr>\n",
       "      <th>4</th>\n",
       "      <td>Gokul Taneja</td>\n",
       "      <td>2018AETC4801489</td>\n",
       "      <td>Gokul.Taneja@raisoni.net</td>\n",
       "      <td>97172-86257</td>\n",
       "    </tr>\n",
       "    <tr>\n",
       "      <th>5</th>\n",
       "      <td>Samaira Shere</td>\n",
       "      <td>2019ACIV6456570</td>\n",
       "      <td>Samaira_Shere@mail.com</td>\n",
       "      <td>86483-71326</td>\n",
       "    </tr>\n",
       "    <tr>\n",
       "      <th>6</th>\n",
       "      <td>Gatik Bir</td>\n",
       "      <td>2018ACSC0083636</td>\n",
       "      <td>GatikBir@att.com</td>\n",
       "      <td>77753-68649</td>\n",
       "    </tr>\n",
       "    <tr>\n",
       "      <th>7</th>\n",
       "      <td>Nitya Sawhney</td>\n",
       "      <td>2015ACSC1831678</td>\n",
       "      <td>Nitya.Sawhney@aol.com</td>\n",
       "      <td>85832-06119</td>\n",
       "    </tr>\n",
       "    <tr>\n",
       "      <th>8</th>\n",
       "      <td>Romil Ratti</td>\n",
       "      <td>2017AETX5268558</td>\n",
       "      <td>Ratti_Romil@rediffmail.com</td>\n",
       "      <td>71854-02385</td>\n",
       "    </tr>\n",
       "    <tr>\n",
       "      <th>9</th>\n",
       "      <td>Rania Edwin</td>\n",
       "      <td>2022AETC0027845</td>\n",
       "      <td>Rania.Edwin@protonmail.com</td>\n",
       "      <td>82305-37099</td>\n",
       "    </tr>\n",
       "  </tbody>\n",
       "</table>\n",
       "</div>"
      ],
      "text/plain": [
       "                name    college_regno                         email  \\\n",
       "0       Hazel Sehgal  2012ACSC8825486   Hazel_Sehgal@rediffmail.com   \n",
       "1           Ira Rege  2020AETX8992876             IRege56@gmail.com   \n",
       "2  Riaan Rajagopalan  2016AETC5099545  Rajagopalan_Riaan94@mail.com   \n",
       "3         Abram Lala  2011AIFT9428515             AbramLala@aol.com   \n",
       "4       Gokul Taneja  2018AETC4801489      Gokul.Taneja@raisoni.net   \n",
       "5      Samaira Shere  2019ACIV6456570        Samaira_Shere@mail.com   \n",
       "6          Gatik Bir  2018ACSC0083636              GatikBir@att.com   \n",
       "7      Nitya Sawhney  2015ACSC1831678         Nitya.Sawhney@aol.com   \n",
       "8        Romil Ratti  2017AETX5268558    Ratti_Romil@rediffmail.com   \n",
       "9        Rania Edwin  2022AETC0027845    Rania.Edwin@protonmail.com   \n",
       "\n",
       "     phone_num  \n",
       "0  82345-13237  \n",
       "1  71835-17161  \n",
       "2  85288-12740  \n",
       "3  82207-37342  \n",
       "4  97172-86257  \n",
       "5  86483-71326  \n",
       "6  77753-68649  \n",
       "7  85832-06119  \n",
       "8  71854-02385  \n",
       "9  82305-37099  "
      ]
     },
     "execution_count": 6,
     "metadata": {},
     "output_type": "execute_result"
    }
   ],
   "source": [
    "df = obj.gen_dataframe(fields=['name', 'college_regno', 'phone_num', 'email'])\n",
    "df"
   ]
  },
  {
   "cell_type": "code",
   "execution_count": 7,
   "id": "15214c36",
   "metadata": {},
   "outputs": [
    {
     "data": {
      "text/plain": [
       "'MMaster56@outlook.com'"
      ]
     },
     "execution_count": 7,
     "metadata": {},
     "output_type": "execute_result"
    }
   ],
   "source": [
    "obj.email(name = obj.fake.name())"
   ]
  },
  {
   "cell_type": "code",
   "execution_count": 8,
   "id": "5d2b9b06",
   "metadata": {},
   "outputs": [
    {
     "data": {
      "text/plain": [
       "'Kavya Konda'"
      ]
     },
     "execution_count": 8,
     "metadata": {},
     "output_type": "execute_result"
    }
   ],
   "source": [
    "obj.fake.name()"
   ]
  },
  {
   "cell_type": "markdown",
   "id": "variable-mount",
   "metadata": {},
   "source": [
    "# Module 3 "
   ]
  },
  {
   "cell_type": "markdown",
   "id": "worse-vulnerability",
   "metadata": {},
   "source": [
    "## Linear Regression"
   ]
  },
  {
   "cell_type": "code",
   "execution_count": 9,
   "id": "bfacb74a",
   "metadata": {},
   "outputs": [],
   "source": [
    "from SynGen import compare_algo"
   ]
  },
  {
   "cell_type": "code",
   "execution_count": 10,
   "id": "59ad9aa6",
   "metadata": {},
   "outputs": [],
   "source": [
    "import numpy as np\n",
    "import pandas as pd\n",
    "import matplotlib.pyplot as plt"
   ]
  },
  {
   "cell_type": "code",
   "execution_count": 11,
   "id": "0796b210",
   "metadata": {},
   "outputs": [],
   "source": [
    "df = pd.read_csv(\"Salary_Data.csv\")"
   ]
  },
  {
   "cell_type": "code",
   "execution_count": 12,
   "id": "5e17879f",
   "metadata": {},
   "outputs": [],
   "source": [
    "xlist = 'YearsExperience'\n",
    "ylist = 'Salary'"
   ]
  },
  {
   "cell_type": "code",
   "execution_count": 13,
   "id": "cdea413a",
   "metadata": {},
   "outputs": [],
   "source": [
    "obj = compare_algo(df)"
   ]
  },
  {
   "cell_type": "code",
   "execution_count": 14,
   "id": "940c3d47",
   "metadata": {},
   "outputs": [
    {
     "data": {
      "text/plain": [
       "(-6.581536262068456, 2446.1723690465055, 12823412.298126549, 3580.979237321343)"
      ]
     },
     "execution_count": 14,
     "metadata": {},
     "output_type": "execute_result"
    }
   ],
   "source": [
    "obj.linear_reg(xlist, ylist)"
   ]
  },
  {
   "cell_type": "markdown",
   "id": "collectible-retirement",
   "metadata": {},
   "source": [
    "## Logistic Regression "
   ]
  },
  {
   "cell_type": "code",
   "execution_count": 15,
   "id": "6ad402dd",
   "metadata": {},
   "outputs": [],
   "source": [
    "df2 = pd.read_csv(\"Social_Network_Ads.csv\")"
   ]
  },
  {
   "cell_type": "code",
   "execution_count": 16,
   "id": "cooperative-lambda",
   "metadata": {},
   "outputs": [],
   "source": [
    "obj2 = compare_algo(df2)"
   ]
  },
  {
   "cell_type": "code",
   "execution_count": 17,
   "id": "3d55cb4b",
   "metadata": {},
   "outputs": [],
   "source": [
    "xlist = 'Age,EstimatedSalary'\n",
    "ylist = 'Purchased'"
   ]
  },
  {
   "cell_type": "code",
   "execution_count": 18,
   "id": "06fc62fb",
   "metadata": {},
   "outputs": [
    {
     "data": {
      "text/plain": [
       "0.925"
      ]
     },
     "execution_count": 18,
     "metadata": {},
     "output_type": "execute_result"
    }
   ],
   "source": [
    "obj2.logistic_reg(xlist, ylist)"
   ]
  },
  {
   "cell_type": "markdown",
   "id": "visible-worship",
   "metadata": {},
   "source": [
    "## DBSCAN Clustering"
   ]
  },
  {
   "cell_type": "code",
   "execution_count": 19,
   "id": "820a9906",
   "metadata": {},
   "outputs": [],
   "source": [
    "from SynGen import compare_algo"
   ]
  },
  {
   "cell_type": "code",
   "execution_count": 20,
   "id": "structural-interim",
   "metadata": {},
   "outputs": [],
   "source": [
    "import numpy as np\n",
    "import pandas as pd\n",
    "import matplotlib.pyplot as plt"
   ]
  },
  {
   "cell_type": "code",
   "execution_count": 21,
   "id": "motivated-rocket",
   "metadata": {},
   "outputs": [],
   "source": [
    "df3 = pd.read_csv(\"Mall_Customers.csv\")"
   ]
  },
  {
   "cell_type": "code",
   "execution_count": 22,
   "id": "looking-decimal",
   "metadata": {},
   "outputs": [],
   "source": [
    "obj3 = compare_algo(df3)"
   ]
  },
  {
   "cell_type": "code",
   "execution_count": 23,
   "id": "proved-missouri",
   "metadata": {},
   "outputs": [],
   "source": [
    "xlist = \"Annual Income (k$),Spending Score (1-100)\"\n",
    "min_samples = 3"
   ]
  },
  {
   "cell_type": "code",
   "execution_count": 24,
   "id": "covered-bidder",
   "metadata": {},
   "outputs": [
    {
     "data": {
      "text/plain": [
       "47.56158504262914"
      ]
     },
     "execution_count": 24,
     "metadata": {},
     "output_type": "execute_result"
    }
   ],
   "source": [
    "obj3.dbscan(xlist, min_samples)"
   ]
  },
  {
   "cell_type": "markdown",
   "id": "downtown-translation",
   "metadata": {},
   "source": [
    "## SVM"
   ]
  },
  {
   "cell_type": "code",
   "execution_count": 25,
   "id": "experienced-margin",
   "metadata": {},
   "outputs": [],
   "source": [
    "df4 = pd.read_csv(\"Social_Network_Ads.csv\")"
   ]
  },
  {
   "cell_type": "code",
   "execution_count": 26,
   "id": "powerful-teddy",
   "metadata": {},
   "outputs": [
    {
     "data": {
      "text/html": [
       "<div>\n",
       "<style scoped>\n",
       "    .dataframe tbody tr th:only-of-type {\n",
       "        vertical-align: middle;\n",
       "    }\n",
       "\n",
       "    .dataframe tbody tr th {\n",
       "        vertical-align: top;\n",
       "    }\n",
       "\n",
       "    .dataframe thead th {\n",
       "        text-align: right;\n",
       "    }\n",
       "</style>\n",
       "<table border=\"1\" class=\"dataframe\">\n",
       "  <thead>\n",
       "    <tr style=\"text-align: right;\">\n",
       "      <th></th>\n",
       "      <th>User ID</th>\n",
       "      <th>Gender</th>\n",
       "      <th>Age</th>\n",
       "      <th>EstimatedSalary</th>\n",
       "      <th>Purchased</th>\n",
       "    </tr>\n",
       "  </thead>\n",
       "  <tbody>\n",
       "    <tr>\n",
       "      <th>0</th>\n",
       "      <td>15624510</td>\n",
       "      <td>Male</td>\n",
       "      <td>19</td>\n",
       "      <td>19000</td>\n",
       "      <td>0</td>\n",
       "    </tr>\n",
       "    <tr>\n",
       "      <th>1</th>\n",
       "      <td>15810944</td>\n",
       "      <td>Male</td>\n",
       "      <td>35</td>\n",
       "      <td>20000</td>\n",
       "      <td>0</td>\n",
       "    </tr>\n",
       "    <tr>\n",
       "      <th>2</th>\n",
       "      <td>15668575</td>\n",
       "      <td>Female</td>\n",
       "      <td>26</td>\n",
       "      <td>43000</td>\n",
       "      <td>0</td>\n",
       "    </tr>\n",
       "    <tr>\n",
       "      <th>3</th>\n",
       "      <td>15603246</td>\n",
       "      <td>Female</td>\n",
       "      <td>27</td>\n",
       "      <td>57000</td>\n",
       "      <td>0</td>\n",
       "    </tr>\n",
       "    <tr>\n",
       "      <th>4</th>\n",
       "      <td>15804002</td>\n",
       "      <td>Male</td>\n",
       "      <td>19</td>\n",
       "      <td>76000</td>\n",
       "      <td>0</td>\n",
       "    </tr>\n",
       "  </tbody>\n",
       "</table>\n",
       "</div>"
      ],
      "text/plain": [
       "    User ID  Gender  Age  EstimatedSalary  Purchased\n",
       "0  15624510    Male   19            19000          0\n",
       "1  15810944    Male   35            20000          0\n",
       "2  15668575  Female   26            43000          0\n",
       "3  15603246  Female   27            57000          0\n",
       "4  15804002    Male   19            76000          0"
      ]
     },
     "execution_count": 26,
     "metadata": {},
     "output_type": "execute_result"
    }
   ],
   "source": [
    "df4.head()"
   ]
  },
  {
   "cell_type": "code",
   "execution_count": 27,
   "id": "abandoned-joint",
   "metadata": {},
   "outputs": [],
   "source": [
    "xlist = 'Age,EstimatedSalary'\n",
    "ylist = 'Purchased'"
   ]
  },
  {
   "cell_type": "code",
   "execution_count": 28,
   "id": "directed-jones",
   "metadata": {},
   "outputs": [],
   "source": [
    "obj4 = compare_algo(df4)"
   ]
  },
  {
   "cell_type": "code",
   "execution_count": 29,
   "id": "composed-neutral",
   "metadata": {},
   "outputs": [
    {
     "data": {
      "text/plain": [
       "0.95"
      ]
     },
     "execution_count": 29,
     "metadata": {},
     "output_type": "execute_result"
    }
   ],
   "source": [
    "obj4.svmc(xlist, ylist)"
   ]
  },
  {
   "cell_type": "markdown",
   "id": "smoking-smoke",
   "metadata": {},
   "source": [
    "## KMeans"
   ]
  },
  {
   "cell_type": "code",
   "execution_count": 30,
   "id": "weekly-vehicle",
   "metadata": {},
   "outputs": [],
   "source": [
    "df5 = pd.read_csv(\"Mall_Customers.csv\")"
   ]
  },
  {
   "cell_type": "code",
   "execution_count": 31,
   "id": "stainless-fashion",
   "metadata": {},
   "outputs": [],
   "source": [
    "obj5 = compare_algo(df5)"
   ]
  },
  {
   "cell_type": "code",
   "execution_count": 32,
   "id": "consecutive-remainder",
   "metadata": {},
   "outputs": [],
   "source": [
    "xlist = \"Annual Income (k$),Spending Score (1-100)\"\n",
    "n_clusters = 5"
   ]
  },
  {
   "cell_type": "code",
   "execution_count": 33,
   "id": "relevant-shock",
   "metadata": {},
   "outputs": [
    {
     "data": {
      "text/plain": [
       "55.3931997444648"
      ]
     },
     "execution_count": 33,
     "metadata": {},
     "output_type": "execute_result"
    }
   ],
   "source": [
    "obj5.kmeans(xlist, n_clusters)"
   ]
  },
  {
   "cell_type": "markdown",
   "id": "concrete-wholesale",
   "metadata": {},
   "source": [
    "## KNN"
   ]
  },
  {
   "cell_type": "code",
   "execution_count": 34,
   "id": "eligible-commission",
   "metadata": {},
   "outputs": [],
   "source": [
    "df6 = pd.read_csv(\"Social_Network_Ads.csv\")"
   ]
  },
  {
   "cell_type": "code",
   "execution_count": 35,
   "id": "dramatic-unemployment",
   "metadata": {},
   "outputs": [],
   "source": [
    "obj6 = compare_algo(df6)"
   ]
  },
  {
   "cell_type": "code",
   "execution_count": 36,
   "id": "reflected-academy",
   "metadata": {},
   "outputs": [],
   "source": [
    "xlist = 'Age,EstimatedSalary'\n",
    "ylist = 'Purchased'"
   ]
  },
  {
   "cell_type": "code",
   "execution_count": 37,
   "id": "arabic-marker",
   "metadata": {},
   "outputs": [
    {
     "data": {
      "text/plain": [
       "(0.95, 4)"
      ]
     },
     "execution_count": 37,
     "metadata": {},
     "output_type": "execute_result"
    }
   ],
   "source": [
    "obj6.knn(xlist, ylist)"
   ]
  },
  {
   "cell_type": "markdown",
   "id": "guilty-franchise",
   "metadata": {},
   "source": [
    "## DecisionTreeClassifier"
   ]
  },
  {
   "cell_type": "code",
   "execution_count": 38,
   "id": "apparent-furniture",
   "metadata": {},
   "outputs": [],
   "source": [
    "df7 = pd.read_csv(\"Social_Network_Ads.csv\")"
   ]
  },
  {
   "cell_type": "code",
   "execution_count": 39,
   "id": "blind-promise",
   "metadata": {},
   "outputs": [],
   "source": [
    "obj7 = compare_algo(df7)"
   ]
  },
  {
   "cell_type": "code",
   "execution_count": 40,
   "id": "engaging-philippines",
   "metadata": {},
   "outputs": [],
   "source": [
    "xlist = 'Age,EstimatedSalary'\n",
    "ylist = 'Purchased'"
   ]
  },
  {
   "cell_type": "code",
   "execution_count": 41,
   "id": "stretch-treaty",
   "metadata": {},
   "outputs": [
    {
     "data": {
      "text/plain": [
       "0.9"
      ]
     },
     "execution_count": 41,
     "metadata": {},
     "output_type": "execute_result"
    }
   ],
   "source": [
    "obj7.DTClassifier(xlist, ylist)"
   ]
  },
  {
   "cell_type": "markdown",
   "id": "southwest-wichita",
   "metadata": {},
   "source": [
    "## RandomForestClassifier"
   ]
  },
  {
   "cell_type": "code",
   "execution_count": 42,
   "id": "significant-morgan",
   "metadata": {},
   "outputs": [
    {
     "data": {
      "text/plain": [
       "0.925"
      ]
     },
     "execution_count": 42,
     "metadata": {},
     "output_type": "execute_result"
    }
   ],
   "source": [
    "obj7.RFClassifier(xlist, ylist)"
   ]
  },
  {
   "cell_type": "markdown",
   "id": "accredited-contributor",
   "metadata": {},
   "source": [
    "## DecisionTreeRegression"
   ]
  },
  {
   "cell_type": "code",
   "execution_count": 43,
   "id": "loved-williams",
   "metadata": {},
   "outputs": [],
   "source": [
    "df8 = pd.read_csv(\"Salary_Data.csv\")"
   ]
  },
  {
   "cell_type": "code",
   "execution_count": 44,
   "id": "minimal-allowance",
   "metadata": {},
   "outputs": [],
   "source": [
    "xlist = 'YearsExperience'\n",
    "ylist = 'Salary'"
   ]
  },
  {
   "cell_type": "code",
   "execution_count": 45,
   "id": "tracked-subject",
   "metadata": {},
   "outputs": [],
   "source": [
    "obj8 = compare_algo(df8)"
   ]
  },
  {
   "cell_type": "code",
   "execution_count": 46,
   "id": "martial-congress",
   "metadata": {},
   "outputs": [
    {
     "data": {
      "text/plain": [
       "(-6.581536262068456, 4120.666666666667, 25498988.416666668, 5049.652306512466)"
      ]
     },
     "execution_count": 46,
     "metadata": {},
     "output_type": "execute_result"
    }
   ],
   "source": [
    "obj8.DTRegression(xlist, ylist)"
   ]
  },
  {
   "cell_type": "markdown",
   "id": "creative-programmer",
   "metadata": {},
   "source": [
    "## RandomForestRegression"
   ]
  },
  {
   "cell_type": "code",
   "execution_count": 47,
   "id": "continuing-oklahoma",
   "metadata": {},
   "outputs": [
    {
     "name": "stderr",
     "output_type": "stream",
     "text": [
      "D:\\CoE\\SynGenV1.7\\SynGen.py:542: DataConversionWarning: A column-vector y was passed when a 1d array was expected. Please change the shape of y to (n_samples,), for example using ravel().\n",
      "  model.fit(x_train, y_train)\n"
     ]
    },
    {
     "data": {
      "text/plain": [
       "(-6.581536262068456, 4370.534166666667, 24244475.505977083, 4923.8679415655615)"
      ]
     },
     "execution_count": 47,
     "metadata": {},
     "output_type": "execute_result"
    }
   ],
   "source": [
    "obj8.RFRegression(xlist, ylist)"
   ]
  },
  {
   "cell_type": "code",
   "execution_count": 48,
   "id": "stock-pioneer",
   "metadata": {},
   "outputs": [
    {
     "name": "stderr",
     "output_type": "stream",
     "text": [
      "C:\\Users\\Akash\\anaconda3\\envs\\syngen\\lib\\site-packages\\sklearn\\utils\\validation.py:63: DataConversionWarning: A column-vector y was passed when a 1d array was expected. Please change the shape of y to (n_samples, ), for example using ravel().\n",
      "  return f(*args, **kwargs)\n"
     ]
    },
    {
     "data": {
      "text/plain": [
       "(0.9909851574594075, 81752.65559905065, 7458766990.583584, 86364.15338891237)"
      ]
     },
     "execution_count": 48,
     "metadata": {},
     "output_type": "execute_result"
    }
   ],
   "source": [
    "obj8.svmr(xlist, ylist)"
   ]
  },
  {
   "cell_type": "code",
   "execution_count": 49,
   "id": "nonprofit-newark",
   "metadata": {},
   "outputs": [
    {
     "name": "stderr",
     "output_type": "stream",
     "text": [
      "C:\\Users\\Akash\\anaconda3\\envs\\syngen\\lib\\site-packages\\sklearn\\utils\\validation.py:63: DataConversionWarning: A column-vector y was passed when a 1d array was expected. Please change the shape of y to (n_samples, ), for example using ravel().\n",
      "  return f(*args, **kwargs)\n",
      "D:\\CoE\\SynGenV1.7\\SynGen.py:542: DataConversionWarning: A column-vector y was passed when a 1d array was expected. Please change the shape of y to (n_samples,), for example using ravel().\n",
      "  model.fit(x_train, y_train)\n"
     ]
    },
    {
     "data": {
      "text/plain": [
       "(0.9909851574594075,\n",
       " 'Support Vector Machine-R',\n",
       " [-6.581536262068456,\n",
       "  0.9909851574594075,\n",
       "  -6.581536262068456,\n",
       "  -6.581536262068456],\n",
       " ['regressions',\n",
       "  'Linear Reg',\n",
       "  'Support Vector Machine-R',\n",
       "  'Decision Tree-R',\n",
       "  'Random Forest-R'],\n",
       " 5)"
      ]
     },
     "execution_count": 49,
     "metadata": {},
     "output_type": "execute_result"
    }
   ],
   "source": [
    "obj8.supervisedAlgos(xlist, ylist)"
   ]
  },
  {
   "cell_type": "code",
   "execution_count": 50,
   "id": "arabic-retirement",
   "metadata": {},
   "outputs": [],
   "source": [
    "xlist = 'Age,EstimatedSalary'\n",
    "ylist = 'Purchased'"
   ]
  },
  {
   "cell_type": "code",
   "execution_count": 51,
   "id": "based-boating",
   "metadata": {},
   "outputs": [
    {
     "data": {
      "text/plain": [
       "(0.95,\n",
       " 'Support Vector Machine -C',\n",
       " [0.925, 0.9, 0.95, 0.95, 0.925],\n",
       " ['classifications',\n",
       "  'logistic Reg -C',\n",
       "  'Decision Tree -C',\n",
       "  'Support Vector Machine -C',\n",
       "  'K-Nearest Neighbor -C',\n",
       "  'Random Forest -C'],\n",
       " 6)"
      ]
     },
     "execution_count": 51,
     "metadata": {},
     "output_type": "execute_result"
    }
   ],
   "source": [
    "obj7.classification(xlist, ylist)"
   ]
  },
  {
   "cell_type": "code",
   "execution_count": null,
   "id": "peaceful-fruit",
   "metadata": {},
   "outputs": [],
   "source": []
  }
 ],
 "metadata": {
  "kernelspec": {
   "display_name": "Python 3",
   "language": "python",
   "name": "python3"
  },
  "language_info": {
   "codemirror_mode": {
    "name": "ipython",
    "version": 3
   },
   "file_extension": ".py",
   "mimetype": "text/x-python",
   "name": "python",
   "nbconvert_exporter": "python",
   "pygments_lexer": "ipython3",
   "version": "3.9.1"
  }
 },
 "nbformat": 4,
 "nbformat_minor": 5
}
