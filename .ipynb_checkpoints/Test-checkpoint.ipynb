{
 "cells": [
  {
   "cell_type": "code",
   "execution_count": 1,
   "id": "emerging-herald",
   "metadata": {},
   "outputs": [],
   "source": [
    "from SynGen import syngen"
   ]
  },
  {
   "cell_type": "code",
   "execution_count": 2,
   "id": "pleased-cattle",
   "metadata": {},
   "outputs": [],
   "source": [
    "obj = syngen()"
   ]
  },
  {
   "cell_type": "code",
   "execution_count": 3,
   "id": "settled-kennedy",
   "metadata": {},
   "outputs": [
    {
     "data": {
      "text/plain": [
       "'2015AETC7065309'"
      ]
     },
     "execution_count": 3,
     "metadata": {},
     "output_type": "execute_result"
    }
   ],
   "source": [
    "obj.college_regno()"
   ]
  },
  {
   "cell_type": "code",
   "execution_count": 4,
   "id": "searching-horizontal",
   "metadata": {},
   "outputs": [
    {
     "data": {
      "text/plain": [
       "'Trisha Ravel'"
      ]
     },
     "execution_count": 4,
     "metadata": {},
     "output_type": "execute_result"
    }
   ],
   "source": [
    "obj.fake.name()"
   ]
  },
  {
   "cell_type": "code",
   "execution_count": 5,
   "id": "interesting-fiction",
   "metadata": {},
   "outputs": [
    {
     "data": {
      "text/plain": [
       "0    677715513086\n",
       "1    564982268166\n",
       "2    138898865900\n",
       "3    606132592514\n",
       "4    589215756836\n",
       "dtype: object"
      ]
     },
     "execution_count": 5,
     "metadata": {},
     "output_type": "execute_result"
    }
   ],
   "source": [
    "obj.gen_data_series(num = 5, data_type = \"aadhaar_id\")"
   ]
  },
  {
   "cell_type": "code",
   "execution_count": 6,
   "id": "integrated-setting",
   "metadata": {},
   "outputs": [
    {
     "data": {
      "text/html": [
       "<div>\n",
       "<style scoped>\n",
       "    .dataframe tbody tr th:only-of-type {\n",
       "        vertical-align: middle;\n",
       "    }\n",
       "\n",
       "    .dataframe tbody tr th {\n",
       "        vertical-align: top;\n",
       "    }\n",
       "\n",
       "    .dataframe thead th {\n",
       "        text-align: right;\n",
       "    }\n",
       "</style>\n",
       "<table border=\"1\" class=\"dataframe\">\n",
       "  <thead>\n",
       "    <tr style=\"text-align: right;\">\n",
       "      <th></th>\n",
       "      <th>name</th>\n",
       "      <th>college_regno</th>\n",
       "      <th>phone_num</th>\n",
       "    </tr>\n",
       "  </thead>\n",
       "  <tbody>\n",
       "    <tr>\n",
       "      <th>0</th>\n",
       "      <td>Ritvik Arora</td>\n",
       "      <td>2022ACIV9836090</td>\n",
       "      <td>97038-67754</td>\n",
       "    </tr>\n",
       "    <tr>\n",
       "      <th>1</th>\n",
       "      <td>Kiara Hora</td>\n",
       "      <td>2018ACSC4266479</td>\n",
       "      <td>97652-21059</td>\n",
       "    </tr>\n",
       "    <tr>\n",
       "      <th>2</th>\n",
       "      <td>Sahil Mahajan</td>\n",
       "      <td>2011ACSC3010419</td>\n",
       "      <td>83529-41885</td>\n",
       "    </tr>\n",
       "    <tr>\n",
       "      <th>3</th>\n",
       "      <td>Shayak Viswanathan</td>\n",
       "      <td>2018AETX7665686</td>\n",
       "      <td>87450-39908</td>\n",
       "    </tr>\n",
       "    <tr>\n",
       "      <th>4</th>\n",
       "      <td>Mahika Ahluwalia</td>\n",
       "      <td>2012AETC4791756</td>\n",
       "      <td>96299-78342</td>\n",
       "    </tr>\n",
       "    <tr>\n",
       "      <th>5</th>\n",
       "      <td>Zeeshan Sen</td>\n",
       "      <td>2017ACIV7354047</td>\n",
       "      <td>83312-89322</td>\n",
       "    </tr>\n",
       "    <tr>\n",
       "      <th>6</th>\n",
       "      <td>Stuvan Koshy</td>\n",
       "      <td>2018AETX8547600</td>\n",
       "      <td>89410-39054</td>\n",
       "    </tr>\n",
       "    <tr>\n",
       "      <th>7</th>\n",
       "      <td>Chirag Krish</td>\n",
       "      <td>2011ACIV1544302</td>\n",
       "      <td>81550-94294</td>\n",
       "    </tr>\n",
       "    <tr>\n",
       "      <th>8</th>\n",
       "      <td>Kiara Mandal</td>\n",
       "      <td>2016AETC1966891</td>\n",
       "      <td>80473-73899</td>\n",
       "    </tr>\n",
       "    <tr>\n",
       "      <th>9</th>\n",
       "      <td>Ela Krishnamurthy</td>\n",
       "      <td>2019AIFT4655393</td>\n",
       "      <td>99113-45335</td>\n",
       "    </tr>\n",
       "  </tbody>\n",
       "</table>\n",
       "</div>"
      ],
      "text/plain": [
       "                 name    college_regno    phone_num\n",
       "0        Ritvik Arora  2022ACIV9836090  97038-67754\n",
       "1          Kiara Hora  2018ACSC4266479  97652-21059\n",
       "2       Sahil Mahajan  2011ACSC3010419  83529-41885\n",
       "3  Shayak Viswanathan  2018AETX7665686  87450-39908\n",
       "4    Mahika Ahluwalia  2012AETC4791756  96299-78342\n",
       "5         Zeeshan Sen  2017ACIV7354047  83312-89322\n",
       "6        Stuvan Koshy  2018AETX8547600  89410-39054\n",
       "7        Chirag Krish  2011ACIV1544302  81550-94294\n",
       "8        Kiara Mandal  2016AETC1966891  80473-73899\n",
       "9   Ela Krishnamurthy  2019AIFT4655393  99113-45335"
      ]
     },
     "execution_count": 6,
     "metadata": {},
     "output_type": "execute_result"
    }
   ],
   "source": [
    "df = obj.gen_dataframe(fields=['name', 'college_regno', 'phone_num'])\n",
    "df"
   ]
  },
  {
   "cell_type": "code",
   "execution_count": 14,
   "id": "metropolitan-express",
   "metadata": {},
   "outputs": [
    {
     "data": {
      "text/plain": [
       "'AVenkatesh80@raisoni.net'"
      ]
     },
     "execution_count": 14,
     "metadata": {},
     "output_type": "execute_result"
    }
   ],
   "source": [
    "obj.email(name = obj.fake.name())"
   ]
  },
  {
   "cell_type": "code",
   "execution_count": 17,
   "id": "minus-review",
   "metadata": {},
   "outputs": [
    {
     "data": {
      "text/plain": [
       "'Veer Aggarwal'"
      ]
     },
     "execution_count": 17,
     "metadata": {},
     "output_type": "execute_result"
    }
   ],
   "source": [
    "obj.fake.name()"
   ]
  },
  {
   "cell_type": "code",
   "execution_count": null,
   "id": "seeing-transfer",
   "metadata": {},
   "outputs": [],
   "source": []
  },
  {
   "cell_type": "code",
   "execution_count": null,
   "id": "christian-speaker",
   "metadata": {},
   "outputs": [],
   "source": []
  }
 ],
 "metadata": {
  "kernelspec": {
   "display_name": "Python 3",
   "language": "python",
   "name": "python3"
  },
  "language_info": {
   "codemirror_mode": {
    "name": "ipython",
    "version": 3
   },
   "file_extension": ".py",
   "mimetype": "text/x-python",
   "name": "python",
   "nbconvert_exporter": "python",
   "pygments_lexer": "ipython3",
   "version": "3.9.1"
  }
 },
 "nbformat": 4,
 "nbformat_minor": 5
}
